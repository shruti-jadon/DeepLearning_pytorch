{
 "cells": [
  {
   "cell_type": "markdown",
   "metadata": {},
   "source": [
    "# Custom Linear Classifier for Image Classification\n",
    "\n",
    "Load the custom dataset/well known dataset"
   ]
  },
  {
   "cell_type": "code",
   "execution_count": 102,
   "metadata": {},
   "outputs": [
    {
     "data": {
      "text/plain": [
       "11045991545979942436"
      ]
     },
     "execution_count": 102,
     "metadata": {},
     "output_type": "execute_result"
    }
   ],
   "source": [
    "import torch\n",
    "import torch.nn as nn\n",
    "import torchvision.datasets as dset\n",
    "import torchvision.transforms as transforms\n",
    "torch.seed()\n"
   ]
  },
  {
   "cell_type": "code",
   "execution_count": 105,
   "metadata": {},
   "outputs": [
    {
     "data": {
      "text/plain": [
       "<enumerate at 0x125cb0048>"
      ]
     },
     "execution_count": 105,
     "metadata": {},
     "output_type": "execute_result"
    }
   ],
   "source": [
    "data = dset.MNIST('./', train=True, transform=None, target_transform=None, download=True)\n",
    "train_loader = torch.utils.data.DataLoader(data)\n",
    "examples = enumerate(train_loader)\n",
    "examples"
   ]
  },
  {
   "cell_type": "code",
   "execution_count": 86,
   "metadata": {
    "collapsed": true
   },
   "outputs": [],
   "source": [
    "class LinearClassifier(nn.Module):\n",
    "    def __init__(self, n_in, n_out):\n",
    "        super(LinearClassifier, self).__init__()\n",
    "        self.linear = nn.Linear(n_in,n_out)\n",
    "    def foreward(self, X_data):\n",
    "        return self.linear(X_data)"
   ]
  },
  {
   "cell_type": "code",
   "execution_count": 87,
   "metadata": {},
   "outputs": [],
   "source": [
    "X = torch.randn(100,1)*10.0\n",
    "y = X + torch.randn(100,1)*3.0"
   ]
  },
  {
   "cell_type": "code",
   "execution_count": 88,
   "metadata": {},
   "outputs": [],
   "source": [
    "model = LinearClassifier(1,1)\n",
    "criterian = nn.MSELoss()\n",
    "optimizer = torch.optim.SGD(model.parameters(),lr=0.01)"
   ]
  },
  {
   "cell_type": "code",
   "execution_count": 89,
   "metadata": {},
   "outputs": [
    {
     "name": "stdout",
     "output_type": "stream",
     "text": [
      "0 134.2472686767578\n",
      "1 60.476707458496094\n",
      "2 30.018857955932617\n",
      "3 17.443387985229492\n",
      "4 12.251021385192871\n",
      "5 10.106907844543457\n",
      "6 9.221336364746094\n",
      "7 8.855387687683105\n",
      "8 8.703989028930664\n",
      "9 8.641181945800781\n",
      "10 8.61496353149414\n",
      "11 8.603864669799805\n",
      "12 8.599017143249512\n",
      "13 8.596761703491211\n",
      "14 8.595586776733398\n",
      "15 8.594866752624512\n",
      "16 8.594345092773438\n",
      "17 8.593912124633789\n",
      "18 8.593526840209961\n",
      "19 8.59316635131836\n",
      "20 8.592828750610352\n",
      "21 8.592503547668457\n",
      "22 8.592193603515625\n",
      "23 8.591896057128906\n",
      "24 8.591609954833984\n",
      "25 8.591336250305176\n",
      "26 8.591071128845215\n",
      "27 8.59081745147705\n",
      "28 8.590574264526367\n",
      "29 8.590340614318848\n",
      "30 8.590117454528809\n",
      "31 8.589900970458984\n",
      "32 8.58969497680664\n",
      "33 8.589495658874512\n",
      "34 8.589303970336914\n",
      "35 8.58912181854248\n",
      "36 8.588944435119629\n",
      "37 8.588776588439941\n",
      "38 8.588614463806152\n",
      "39 8.588459014892578\n",
      "40 8.588308334350586\n",
      "41 8.588163375854492\n",
      "42 8.588025093078613\n",
      "43 8.58789348602295\n",
      "44 8.58776569366455\n",
      "45 8.58764362335205\n",
      "46 8.587525367736816\n",
      "47 8.58741283416748\n",
      "48 8.587303161621094\n",
      "49 8.587200164794922\n",
      "50 8.587098121643066\n",
      "51 8.587003707885742\n",
      "52 8.58691120147705\n",
      "53 8.586821556091309\n",
      "54 8.586736679077148\n",
      "55 8.586655616760254\n",
      "56 8.586576461791992\n",
      "57 8.586502075195312\n",
      "58 8.58642864227295\n",
      "59 8.586359977722168\n",
      "60 8.586292266845703\n",
      "61 8.586228370666504\n",
      "62 8.586166381835938\n",
      "63 8.586108207702637\n",
      "64 8.586050987243652\n",
      "65 8.585994720458984\n",
      "66 8.585943222045898\n",
      "67 8.585894584655762\n",
      "68 8.585844993591309\n",
      "69 8.585798263549805\n",
      "70 8.585753440856934\n",
      "71 8.585710525512695\n",
      "72 8.585670471191406\n",
      "73 8.5856294631958\n",
      "74 8.585592269897461\n",
      "75 8.585556983947754\n",
      "76 8.585519790649414\n",
      "77 8.585487365722656\n",
      "78 8.585454940795898\n",
      "79 8.585423469543457\n",
      "80 8.585394859313965\n",
      "81 8.585366249084473\n",
      "82 8.585338592529297\n",
      "83 8.585310935974121\n",
      "84 8.585287094116211\n",
      "85 8.585261344909668\n",
      "86 8.585237503051758\n",
      "87 8.58521556854248\n",
      "88 8.585193634033203\n",
      "89 8.585174560546875\n",
      "90 8.585153579711914\n",
      "91 8.585134506225586\n",
      "92 8.585116386413574\n",
      "93 8.585098266601562\n",
      "94 8.585081100463867\n",
      "95 8.585064888000488\n",
      "96 8.58504867553711\n",
      "97 8.585034370422363\n",
      "98 8.5850191116333\n",
      "99 8.585005760192871\n"
     ]
    }
   ],
   "source": [
    "epoch = 100\n",
    "for i in range(0, epoch):\n",
    "    y_pred = model.foreward(X)\n",
    "    loss = criterian(y,y_pred)\n",
    "    print (i, loss.item())\n",
    "    optimizer.zero_grad()\n",
    "    loss.backward()\n",
    "    optimizer.step()"
   ]
  }
 ],
 "metadata": {
  "kernelspec": {
   "display_name": "Python 3",
   "language": "python",
   "name": "python3"
  },
  "language_info": {
   "codemirror_mode": {
    "name": "ipython",
    "version": 3
   },
   "file_extension": ".py",
   "mimetype": "text/x-python",
   "name": "python",
   "nbconvert_exporter": "python",
   "pygments_lexer": "ipython3",
   "version": "3.6.3"
  }
 },
 "nbformat": 4,
 "nbformat_minor": 2
}
